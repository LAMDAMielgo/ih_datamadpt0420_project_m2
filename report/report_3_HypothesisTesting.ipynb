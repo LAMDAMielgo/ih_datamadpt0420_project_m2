{
 "cells": [
  {
   "cell_type": "markdown",
   "metadata": {},
   "source": [
    "# HYPOTHESIS TESTING"
   ]
  },
  {
   "cell_type": "code",
   "execution_count": 97,
   "metadata": {},
   "outputs": [],
   "source": [
    "import numpy as np\n",
    "import pandas as pd\n",
    "\n",
    "from scipy.stats import t\n",
    "from scipy.stats import norm\n",
    "from scipy.stats import ttest_1samp\n",
    "from scipy.stats import ttest_ind\n",
    "\n",
    "import seaborn as sns; sns.set()\n",
    "from matplotlib import pyplot as plt"
   ]
  },
  {
   "cell_type": "code",
   "execution_count": 98,
   "metadata": {},
   "outputs": [],
   "source": [
    "path_cleaned_data = '../data/train/diamonds_train_ht.csv'\n",
    "\n",
    "diamonds_df = pd.read_csv(path_cleaned_data)\n",
    "diamonds_df.drop(['Unnamed: 0'], axis=1, inplace = True)"
   ]
  },
  {
   "cell_type": "code",
   "execution_count": 99,
   "metadata": {},
   "outputs": [
    {
     "data": {
      "text/html": [
       "<div>\n",
       "<style scoped>\n",
       "    .dataframe tbody tr th:only-of-type {\n",
       "        vertical-align: middle;\n",
       "    }\n",
       "\n",
       "    .dataframe tbody tr th {\n",
       "        vertical-align: top;\n",
       "    }\n",
       "\n",
       "    .dataframe thead th {\n",
       "        text-align: right;\n",
       "    }\n",
       "</style>\n",
       "<table border=\"1\" class=\"dataframe\">\n",
       "  <thead>\n",
       "    <tr style=\"text-align: right;\">\n",
       "      <th></th>\n",
       "      <th>cut_Fair</th>\n",
       "      <th>cut_Good</th>\n",
       "      <th>cut_Ideal</th>\n",
       "      <th>cut_Premium</th>\n",
       "      <th>cut_Very Good</th>\n",
       "      <th>color_D</th>\n",
       "      <th>color_E</th>\n",
       "      <th>color_F</th>\n",
       "      <th>color_G</th>\n",
       "      <th>color_H</th>\n",
       "      <th>...</th>\n",
       "      <th>clarity_VVS1</th>\n",
       "      <th>clarity_VVS2</th>\n",
       "      <th>price</th>\n",
       "      <th>carat</th>\n",
       "      <th>depth</th>\n",
       "      <th>table</th>\n",
       "      <th>volume</th>\n",
       "      <th>L/W_ratio</th>\n",
       "      <th>V/W_Ratio</th>\n",
       "      <th>T/D_ratio</th>\n",
       "    </tr>\n",
       "  </thead>\n",
       "  <tbody>\n",
       "    <tr>\n",
       "      <th>0</th>\n",
       "      <td>0</td>\n",
       "      <td>0</td>\n",
       "      <td>0</td>\n",
       "      <td>1</td>\n",
       "      <td>0</td>\n",
       "      <td>0</td>\n",
       "      <td>0</td>\n",
       "      <td>0</td>\n",
       "      <td>0</td>\n",
       "      <td>0</td>\n",
       "      <td>...</td>\n",
       "      <td>0</td>\n",
       "      <td>0</td>\n",
       "      <td>4268</td>\n",
       "      <td>1.21</td>\n",
       "      <td>62.4</td>\n",
       "      <td>58.0</td>\n",
       "      <td>314.89</td>\n",
       "      <td>0.6</td>\n",
       "      <td>260.24</td>\n",
       "      <td>0.929487</td>\n",
       "    </tr>\n",
       "    <tr>\n",
       "      <th>1</th>\n",
       "      <td>0</td>\n",
       "      <td>0</td>\n",
       "      <td>0</td>\n",
       "      <td>0</td>\n",
       "      <td>1</td>\n",
       "      <td>0</td>\n",
       "      <td>0</td>\n",
       "      <td>0</td>\n",
       "      <td>0</td>\n",
       "      <td>1</td>\n",
       "      <td>...</td>\n",
       "      <td>0</td>\n",
       "      <td>0</td>\n",
       "      <td>505</td>\n",
       "      <td>0.32</td>\n",
       "      <td>63.0</td>\n",
       "      <td>57.0</td>\n",
       "      <td>83.45</td>\n",
       "      <td>0.7</td>\n",
       "      <td>260.78</td>\n",
       "      <td>0.904762</td>\n",
       "    </tr>\n",
       "    <tr>\n",
       "      <th>2</th>\n",
       "      <td>1</td>\n",
       "      <td>0</td>\n",
       "      <td>0</td>\n",
       "      <td>0</td>\n",
       "      <td>0</td>\n",
       "      <td>0</td>\n",
       "      <td>0</td>\n",
       "      <td>0</td>\n",
       "      <td>1</td>\n",
       "      <td>0</td>\n",
       "      <td>...</td>\n",
       "      <td>0</td>\n",
       "      <td>0</td>\n",
       "      <td>2686</td>\n",
       "      <td>0.71</td>\n",
       "      <td>65.5</td>\n",
       "      <td>55.0</td>\n",
       "      <td>171.86</td>\n",
       "      <td>1.6</td>\n",
       "      <td>242.06</td>\n",
       "      <td>0.839695</td>\n",
       "    </tr>\n",
       "    <tr>\n",
       "      <th>3</th>\n",
       "      <td>0</td>\n",
       "      <td>1</td>\n",
       "      <td>0</td>\n",
       "      <td>0</td>\n",
       "      <td>0</td>\n",
       "      <td>1</td>\n",
       "      <td>0</td>\n",
       "      <td>0</td>\n",
       "      <td>0</td>\n",
       "      <td>0</td>\n",
       "      <td>...</td>\n",
       "      <td>0</td>\n",
       "      <td>0</td>\n",
       "      <td>738</td>\n",
       "      <td>0.41</td>\n",
       "      <td>63.8</td>\n",
       "      <td>56.0</td>\n",
       "      <td>104.26</td>\n",
       "      <td>0.9</td>\n",
       "      <td>254.29</td>\n",
       "      <td>0.877743</td>\n",
       "    </tr>\n",
       "    <tr>\n",
       "      <th>4</th>\n",
       "      <td>0</td>\n",
       "      <td>0</td>\n",
       "      <td>1</td>\n",
       "      <td>0</td>\n",
       "      <td>0</td>\n",
       "      <td>0</td>\n",
       "      <td>0</td>\n",
       "      <td>0</td>\n",
       "      <td>1</td>\n",
       "      <td>0</td>\n",
       "      <td>...</td>\n",
       "      <td>0</td>\n",
       "      <td>0</td>\n",
       "      <td>4882</td>\n",
       "      <td>1.02</td>\n",
       "      <td>60.5</td>\n",
       "      <td>59.0</td>\n",
       "      <td>277.59</td>\n",
       "      <td>0.6</td>\n",
       "      <td>272.15</td>\n",
       "      <td>0.975207</td>\n",
       "    </tr>\n",
       "  </tbody>\n",
       "</table>\n",
       "<p>5 rows × 28 columns</p>\n",
       "</div>"
      ],
      "text/plain": [
       "   cut_Fair  cut_Good  cut_Ideal  cut_Premium  cut_Very Good  color_D  \\\n",
       "0         0         0          0            1              0        0   \n",
       "1         0         0          0            0              1        0   \n",
       "2         1         0          0            0              0        0   \n",
       "3         0         1          0            0              0        1   \n",
       "4         0         0          1            0              0        0   \n",
       "\n",
       "   color_E  color_F  color_G  color_H  ...  clarity_VVS1  clarity_VVS2  price  \\\n",
       "0        0        0        0        0  ...             0             0   4268   \n",
       "1        0        0        0        1  ...             0             0    505   \n",
       "2        0        0        1        0  ...             0             0   2686   \n",
       "3        0        0        0        0  ...             0             0    738   \n",
       "4        0        0        1        0  ...             0             0   4882   \n",
       "\n",
       "   carat  depth  table  volume  L/W_ratio  V/W_Ratio  T/D_ratio  \n",
       "0   1.21   62.4   58.0  314.89        0.6     260.24   0.929487  \n",
       "1   0.32   63.0   57.0   83.45        0.7     260.78   0.904762  \n",
       "2   0.71   65.5   55.0  171.86        1.6     242.06   0.839695  \n",
       "3   0.41   63.8   56.0  104.26        0.9     254.29   0.877743  \n",
       "4   1.02   60.5   59.0  277.59        0.6     272.15   0.975207  \n",
       "\n",
       "[5 rows x 28 columns]"
      ]
     },
     "execution_count": 99,
     "metadata": {},
     "output_type": "execute_result"
    }
   ],
   "source": [
    "diamonds_df.head()"
   ]
  },
  {
   "cell_type": "code",
   "execution_count": 100,
   "metadata": {},
   "outputs": [
    {
     "data": {
      "text/plain": [
       "(40378, 28)"
      ]
     },
     "execution_count": 100,
     "metadata": {},
     "output_type": "execute_result"
    }
   ],
   "source": [
    "diamonds_df.shape"
   ]
  },
  {
   "cell_type": "markdown",
   "metadata": {},
   "source": [
    "## 1. Sample vs Constant\n",
    "\n",
    "We know from the available literature that diamonds average price rounds about 4000 USD. The aim is to test whether the prices in our sample are significantly different from the literature value. Give some conclusions about the implications of your test results."
   ]
  },
  {
   "cell_type": "markdown",
   "metadata": {},
   "source": [
    "By Scipy:"
   ]
  },
  {
   "cell_type": "code",
   "execution_count": 101,
   "metadata": {},
   "outputs": [
    {
     "data": {
      "text/plain": [
       "6.617783042436085e-05"
      ]
     },
     "metadata": {},
     "output_type": "display_data"
    },
    {
     "name": "stdout",
     "output_type": "stream",
     "text": [
      "Null Hypothesis: Price mean is not significantly different than the constant <> Avg price round about 4000\n",
      "Can we reject Null Hypothesis: \tTrue\n"
     ]
    }
   ],
   "source": [
    "mu = 4000\n",
    "\n",
    "test_results = ttest_1samp(diamonds_df['price'], 4000)\n",
    "p_value_good = test_results.pvalue /2\n",
    "\n",
    "display(p_value_good) # scipy is p_value of both sides\n",
    "\n",
    "print(f\"Null Hypothesis: Price mean is not significantly different than the constant <> Avg price round about 4000\")\n",
    "print(f\"Can we reject Null Hypothesis: \\t{p_value_good < 0.05}\")"
   ]
  },
  {
   "cell_type": "markdown",
   "metadata": {},
   "source": [
    "By Hand:"
   ]
  },
  {
   "cell_type": "code",
   "execution_count": 102,
   "metadata": {},
   "outputs": [],
   "source": [
    "mu_hat = diamonds_df['price'].mean()\n",
    "n = diamonds_df.shape[0]\n",
    "std_hat = diamonds_df['price'].std()"
   ]
  },
  {
   "cell_type": "code",
   "execution_count": 103,
   "metadata": {},
   "outputs": [
    {
     "name": "stdout",
     "output_type": "stream",
     "text": [
      "6.617783042436085e-05\n"
     ]
    },
    {
     "data": {
      "text/plain": [
       "True"
      ]
     },
     "metadata": {},
     "output_type": "display_data"
    }
   ],
   "source": [
    "t_test = (mu_hat - mu) / (std_hat / np.sqrt(n))\n",
    "t_test # t_test is the same as scipy\n",
    "rv = t(df=n-1)\n",
    "p_value = rv.cdf(t_test)\n",
    "\n",
    "print(p_value)\n",
    "display(p_value == p_value_good)"
   ]
  },
  {
   "cell_type": "markdown",
   "metadata": {},
   "source": [
    "## 2 Two independent samples. \n",
    "\n",
    "The sample includes diamonds with different features (carat, cut, color clarity, ..). It seems clear that the carat plays an important role in price. However, it's not that clear whether the prices of some \"sub-groups\" are significantly different from each other. These are the \"sub-groups\" that we might feel suspicious about:\n",
    "\n",
    ">- Sub-Test 1: Fair cut + color G vs. Fair cut + color I\n",
    ">- Sub-Test 2: Good cut + color E vs. Good cut + color F\n",
    ">- Sub-Test 3: Ideal cut + color D vs. Ideal cut + color E\n",
    ">- Sub-Test 4: Premium cut + color D vs. Premium cut + color E\n",
    ">- Sub-Test 5: Very Good cut + color I vs. Very Good cut + color J\n",
    ">- Sub-Test 6: All cuts + color D vs. All cuts + color E\n",
    "\n",
    "H0 := mu_one == mu_one -> means from different samples do not have a significant variance"
   ]
  },
  {
   "cell_type": "markdown",
   "metadata": {},
   "source": [
    "### Sub Test 1"
   ]
  },
  {
   "cell_type": "code",
   "execution_count": 20,
   "metadata": {},
   "outputs": [],
   "source": [
    "sub_test_11 = diamonds_df[(diamonds_df['cut_Fair'] == 1) & (diamonds_df['color_G'] == 1)]\n",
    "sub_test_12 = diamonds_df[(diamonds_df['cut_Fair'] == 1) & (diamonds_df['color_I'] == 1)]"
   ]
  },
  {
   "cell_type": "code",
   "execution_count": 24,
   "metadata": {},
   "outputs": [
    {
     "data": {
      "text/plain": [
       "0.8893500463066848"
      ]
     },
     "metadata": {},
     "output_type": "display_data"
    },
    {
     "data": {
      "text/plain": [
       "0.8908874002307834"
      ]
     },
     "metadata": {},
     "output_type": "display_data"
    }
   ],
   "source": [
    "test_results_11 = ttest_ind(sub_test_11['price'], sub_test_12['price'], equal_var = False, nan_policy = 'omit')\n",
    "test_results_12 = ttest_ind(sub_test_11['price'], sub_test_12['price'], equal_var = True, nan_policy = 'omit')\n",
    "\n",
    "display(test_results_11[1])\n",
    "display(test_results_12[1])"
   ]
  },
  {
   "cell_type": "markdown",
   "metadata": {},
   "source": [
    "p_11 and p_12 are > 0.05 --> **Null Hypothesis cannot be rejected.** \n",
    "\n",
    "There is a 95% chance that test_results_11 and test_results_12 ARE RELATED."
   ]
  },
  {
   "cell_type": "markdown",
   "metadata": {},
   "source": [
    "### Sub Test 2"
   ]
  },
  {
   "cell_type": "code",
   "execution_count": 25,
   "metadata": {},
   "outputs": [],
   "source": [
    "sub_test_21 = diamonds_df[(diamonds_df['cut_Good'] == 1) & (diamonds_df['color_E'] == 1)]\n",
    "sub_test_22 = diamonds_df[(diamonds_df['cut_Good'] == 1) & (diamonds_df['color_F'] == 1)]"
   ]
  },
  {
   "cell_type": "code",
   "execution_count": 26,
   "metadata": {},
   "outputs": [
    {
     "data": {
      "text/plain": [
       "0.6433618593904988"
      ]
     },
     "metadata": {},
     "output_type": "display_data"
    },
    {
     "data": {
      "text/plain": [
       "0.6436801009386424"
      ]
     },
     "metadata": {},
     "output_type": "display_data"
    }
   ],
   "source": [
    "test_results_21 = ttest_ind(sub_test_21['price'], sub_test_22['price'], equal_var = False, nan_policy = 'omit')\n",
    "test_results_22 = ttest_ind(sub_test_21['price'], sub_test_22['price'], equal_var = True, nan_policy = 'omit')\n",
    "\n",
    "display(test_results_21[1])\n",
    "display(test_results_22[1])"
   ]
  },
  {
   "cell_type": "markdown",
   "metadata": {},
   "source": [
    "p_21 and p_22 are > 0.05 --> **Null Hypothesis cannot be rejected.** \n",
    "\n",
    "There is a 95% chance that test_results_21 and test_results_22 ARE RELATED."
   ]
  },
  {
   "cell_type": "code",
   "execution_count": 28,
   "metadata": {
    "scrolled": true
   },
   "outputs": [
    {
     "data": {
      "text/plain": [
       "Index(['cut_Fair', 'cut_Good', 'cut_Ideal', 'cut_Premium', 'cut_Very Good',\n",
       "       'color_D', 'color_E', 'color_F', 'color_G', 'color_H', 'color_I',\n",
       "       'color_J', 'clarity_I1', 'clarity_IF', 'clarity_SI1', 'clarity_SI2',\n",
       "       'clarity_VS1', 'clarity_VS2', 'clarity_VVS1', 'clarity_VVS2', 'price',\n",
       "       'carat', 'depth', 'table', 'volume', 'L/W_ratio', 'V/W_Ratio',\n",
       "       'T/D_ratio'],\n",
       "      dtype='object')"
      ]
     },
     "execution_count": 28,
     "metadata": {},
     "output_type": "execute_result"
    }
   ],
   "source": [
    "diamonds_df.columns"
   ]
  },
  {
   "cell_type": "markdown",
   "metadata": {},
   "source": [
    "## GENERALIZING SUB TEST FOR COLOR\n",
    "\n",
    "For synthesis purposes, the subtests are made for every category of against every other."
   ]
  },
  {
   "cell_type": "code",
   "execution_count": 76,
   "metadata": {},
   "outputs": [],
   "source": [
    "color_cols = [ 'color_D', 'color_E', 'color_F', 'color_G', 'color_H', 'color_I', 'color_J']\n",
    "cut_cols = ['cut_Fair', 'cut_Good', 'cut_Ideal', 'cut_Premium', 'cut_Very Good']\n",
    "clarity_cols = ['clarity_I1', 'clarity_IF', 'clarity_SI1', 'clarity_SI2', 'clarity_VS1', 'clarity_VS2', 'clarity_VVS1', 'clarity_VVS2']"
   ]
  },
  {
   "cell_type": "code",
   "execution_count": 77,
   "metadata": {},
   "outputs": [],
   "source": [
    "test_results = []\n",
    "for cut_col in cut_cols:\n",
    "    test_results_by_cut = []\n",
    "    for color_col_1 in color_cols:\n",
    "        test_results_by_cut_col = []\n",
    "        for color_col_2 in color_cols[::-1]:\n",
    "\n",
    "            sub_test_1 = diamonds_df[(diamonds_df[cut_col] == 1) & (diamonds_df[color_col_1] == 1)]\n",
    "            sub_test_2 = diamonds_df[(diamonds_df[cut_col] == 1) & (diamonds_df[color_col_2] == 1)]\n",
    "\n",
    "            test_results_1 = ttest_ind(sub_test_1['price'], sub_test_2['price'], equal_var = False, nan_policy = 'omit')\n",
    "            test_results_2 = ttest_ind(sub_test_1['price'], sub_test_2['price'], equal_var = True, nan_policy = 'omit')\n",
    "\n",
    "            result = np.round(max(test_results_1[1], test_results_2[1]), 4)\n",
    "            res = 0 if result > 0.05 else 1 # With 1 -> Null Hypothesis is rejected\n",
    "            \n",
    "            test_results_by_cut_col.append(res)\n",
    "        test_results_by_cut.append(test_results_by_cut_col)\n",
    "    test_results.append(test_results_by_cut)"
   ]
  },
  {
   "cell_type": "code",
   "execution_count": 75,
   "metadata": {},
   "outputs": [
    {
     "data": {
      "image/png": "[encoded data removed]",
      "text/plain": [
       "<Figure size 1800x1800 with 3 Axes>"
      ]
     },
     "metadata": {},
     "output_type": "display_data"
    }
   ],
   "source": [
    "fig,(ax1,ax2,ax3) = plt.subplots(1,3)\n",
    "fig.set_size_inches(25, 25)\n",
    "# 0 -> Black. Null hypothesis cannot be rejected -> There is probability of relationship between variables\n",
    "# 1 -> White. Null Hypothesis rejected -> Probability of independent variables\n",
    "\n",
    "cut_order = ['cut_Fair', 'cut_Good', 'cut_Ideal', 'cut_Premium', 'cut_Very Good']\n",
    "color_order = ['color_D', 'color_E', 'color_F', 'color_G', 'color_H', 'color_I', 'color_J']\n",
    "\n",
    "g1 = sns.heatmap(test_results[2], cbar=False, ax=ax1, square = True) # Ideal == Very Good == Premium\n",
    "g2 = sns.heatmap(test_results[1], cbar=False, ax=ax2, square = True) # Good\n",
    "g3 = sns.heatmap(test_results[0], cbar=False, ax=ax3, square = True) # Fair\n",
    "\n",
    "fig.show()"
   ]
  },
  {
   "cell_type": "markdown",
   "metadata": {},
   "source": [
    "For the best cut categories **[Ideal, Premium and Very Good]**\n",
    ">- colors F and G are related to eachother\n",
    ">- colors I and J are related to eachother\n",
    "\n",
    "For **Good** cut quality:\n",
    ">- colors D,E,F and G are related to D\n",
    ">- colors D and e are related to eachother\n",
    ">- colors F and G are related to eachother\n",
    ">- colors H, I and J are related to eachother\n",
    "\n",
    "For **Fair** cut quality:\n",
    ">- colors D,E,F and G are related to eachother\n",
    ">- colors H and I are related to eachother\n",
    ">- color J is related to everyother category except of I"
   ]
  },
  {
   "cell_type": "markdown",
   "metadata": {},
   "source": [
    "## GENERALIZING SUB TEST FOR CLARITY\n",
    "\n",
    "For synthesis purposes, the subtests are made for every category of against every other."
   ]
  },
  {
   "cell_type": "code",
   "execution_count": 93,
   "metadata": {},
   "outputs": [],
   "source": [
    "test_results = []\n",
    "for cut_col in cut_cols:\n",
    "    test_results_by_cut = []\n",
    "    for color_col_1 in clarity_cols:\n",
    "        test_results_by_cut_col = []\n",
    "        for color_col_2 in clarity_cols[::-1]:\n",
    "\n",
    "            sub_test_1 = diamonds_df[(diamonds_df[cut_col] == 1) & (diamonds_df[color_col_1] == 1)]\n",
    "            sub_test_2 = diamonds_df[(diamonds_df[cut_col] == 1) & (diamonds_df[color_col_2] == 1)]\n",
    "\n",
    "            test_results_1 = ttest_ind(sub_test_1['price'], sub_test_2['price'], equal_var = False, nan_policy = 'omit')\n",
    "            test_results_2 = ttest_ind(sub_test_1['price'], sub_test_2['price'], equal_var = True, nan_policy = 'omit')\n",
    "\n",
    "            result = np.round(max(test_results_1[1], test_results_2[1]), 4)\n",
    "            res = 0 if result > 0.05 else 1 # With 1 -> Null Hypothesis is rejected\n",
    "            \n",
    "            test_results_by_cut_col.append(res)\n",
    "        test_results_by_cut.append(test_results_by_cut_col)\n",
    "    test_results.append(test_results_by_cut)\n",
    "\n",
    "# clarity_order = ['clarity_I1', 'clarity_IF', 'clarity_SI1', 'clarity_SI2', 'clarity_VS1', 'clarity_VS2', 'clarity_VVS1', 'clarity_VVS2']\n",
    "order_clarity = [1,4,5,6,7,2,3,0]\n",
    "test_res = [[[test[i] for i in order_clarity] for test in test_result] for test_result in test_results]"
   ]
  },
  {
   "cell_type": "code",
   "execution_count": 96,
   "metadata": {},
   "outputs": [
    {
     "data": {
      "image/png": "[encoded data removed]",
      "text/plain": [
       "<Figure size 1800x1800 with 5 Axes>"
      ]
     },
     "metadata": {},
     "output_type": "display_data"
    }
   ],
   "source": [
    "fig,(ax1,ax2,ax3,ax4, ax5) = plt.subplots(1,5)\n",
    "fig.set_size_inches(25, 25)\n",
    "# 0 -> Black. Null hypothesis cannot be rejected -> There is probability of relationship between variables\n",
    "# 1 -> White. Null Hypothesis rejected -> Probability of independent variables\n",
    "\n",
    "cut_order = ['cut_Fair', 'cut_Good', 'cut_Ideal', 'cut_Premium', 'cut_Very Good']\n",
    "clarity_order = [ 'clarity_IF', 'clarity_VS1', 'clarity_VS2', 'clarity_VVS1', 'clarity_VVS2', 'clarity_SI1', 'clarity_SI2', 'clarity_I1']\n",
    "\n",
    "g1 = sns.heatmap(test_res[0], cbar=False, ax=ax1, square = True) \n",
    "g2 = sns.heatmap(test_res[1], cbar=False, ax=ax2, square = True) \n",
    "g3 = sns.heatmap(test_res[2], cbar=False, ax=ax3, square = True)\n",
    "g4 = sns.heatmap(test_res[3], cbar=False, ax=ax4, square = True)\n",
    "g5 = sns.heatmap(test_res[4], cbar=False, ax=ax5, square = True)"
   ]
  },
  {
   "cell_type": "markdown",
   "metadata": {},
   "source": [
    "For **Ideal** cut quality: All clarity categories are dependent expect for clarity VS1\n",
    "\n",
    "For **Premium** Cut quality: A posible generalization is taht the less clarity, the more related are the variables\n",
    "\n",
    "For **Very Good** Cut quality: A possible generalization is that most variables are independant of each other\n",
    "\n",
    "For **Good and Fair** Cut Quality: **TO BE DONE**"
   ]
  }
 ],
 "metadata": {
  "kernelspec": {
   "display_name": "Python (jupyter_env)",
   "language": "python",
   "name": "jupyter_env"
  },
  "language_info": {
   "codemirror_mode": {
    "name": "ipython",
    "version": 3
   },
   "file_extension": ".py",
   "mimetype": "text/x-python",
   "name": "python",
   "nbconvert_exporter": "python",
   "pygments_lexer": "ipython3",
   "version": "3.7.7"
  }
 },
 "nbformat": 4,
 "nbformat_minor": 4
}
