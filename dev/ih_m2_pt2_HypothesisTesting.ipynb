{
 "cells": [
  {
   "cell_type": "markdown",
   "metadata": {},
   "source": [
    "## HYPOTHESIS TESTING"
   ]
  },
  {
   "cell_type": "code",
   "execution_count": 2,
   "metadata": {},
   "outputs": [],
   "source": [
    "import numpy as np\n",
    "import pandas as pd\n",
    "\n",
    "from scipy.stats import t\n",
    "from scipy.stats import norm\n",
    "from scipy.stats import ttest_1samp\n",
    "\n",
    "%matplotlib inline"
   ]
  },
  {
   "cell_type": "markdown",
   "metadata": {},
   "source": [
    "4000 USD\n",
    "\n",
    "Sub-Test 2: Good cut + color E vs. Good cut + color F"
   ]
  },
  {
   "cell_type": "code",
   "execution_count": 24,
   "metadata": {},
   "outputs": [],
   "source": [
    "path_cleaned_data = '../data/train/diamonds_train_ht.csv'\n",
    "\n",
    "diamonds_df = pd.read_csv(path_cleaned_data)\n",
    "\n",
    "diamonds_df.drop(['Unnamed: 0'], axis=1, inplace = True)"
   ]
  },
  {
   "cell_type": "code",
   "execution_count": 25,
   "metadata": {},
   "outputs": [
    {
     "data": {
      "text/html": [
       "<div>\n",
       "<style scoped>\n",
       "    .dataframe tbody tr th:only-of-type {\n",
       "        vertical-align: middle;\n",
       "    }\n",
       "\n",
       "    .dataframe tbody tr th {\n",
       "        vertical-align: top;\n",
       "    }\n",
       "\n",
       "    .dataframe thead th {\n",
       "        text-align: right;\n",
       "    }\n",
       "</style>\n",
       "<table border=\"1\" class=\"dataframe\">\n",
       "  <thead>\n",
       "    <tr style=\"text-align: right;\">\n",
       "      <th></th>\n",
       "      <th>cut_Fair</th>\n",
       "      <th>cut_Good</th>\n",
       "      <th>cut_Ideal</th>\n",
       "      <th>cut_Premium</th>\n",
       "      <th>cut_Very Good</th>\n",
       "      <th>color_D</th>\n",
       "      <th>color_E</th>\n",
       "      <th>color_F</th>\n",
       "      <th>color_G</th>\n",
       "      <th>color_H</th>\n",
       "      <th>...</th>\n",
       "      <th>clarity_VVS1</th>\n",
       "      <th>clarity_VVS2</th>\n",
       "      <th>price</th>\n",
       "      <th>carat</th>\n",
       "      <th>depth</th>\n",
       "      <th>table</th>\n",
       "      <th>volume</th>\n",
       "      <th>L/W_ratio</th>\n",
       "      <th>V/W_Ratio</th>\n",
       "      <th>T/D_ratio</th>\n",
       "    </tr>\n",
       "  </thead>\n",
       "  <tbody>\n",
       "    <tr>\n",
       "      <th>0</th>\n",
       "      <td>0</td>\n",
       "      <td>0</td>\n",
       "      <td>0</td>\n",
       "      <td>1</td>\n",
       "      <td>0</td>\n",
       "      <td>0</td>\n",
       "      <td>0</td>\n",
       "      <td>0</td>\n",
       "      <td>0</td>\n",
       "      <td>0</td>\n",
       "      <td>...</td>\n",
       "      <td>0</td>\n",
       "      <td>0</td>\n",
       "      <td>4268</td>\n",
       "      <td>1.21</td>\n",
       "      <td>62.4</td>\n",
       "      <td>58.0</td>\n",
       "      <td>314.89</td>\n",
       "      <td>0.6</td>\n",
       "      <td>260.24</td>\n",
       "      <td>0.929487</td>\n",
       "    </tr>\n",
       "    <tr>\n",
       "      <th>1</th>\n",
       "      <td>0</td>\n",
       "      <td>0</td>\n",
       "      <td>0</td>\n",
       "      <td>0</td>\n",
       "      <td>1</td>\n",
       "      <td>0</td>\n",
       "      <td>0</td>\n",
       "      <td>0</td>\n",
       "      <td>0</td>\n",
       "      <td>1</td>\n",
       "      <td>...</td>\n",
       "      <td>0</td>\n",
       "      <td>0</td>\n",
       "      <td>505</td>\n",
       "      <td>0.32</td>\n",
       "      <td>63.0</td>\n",
       "      <td>57.0</td>\n",
       "      <td>83.45</td>\n",
       "      <td>0.7</td>\n",
       "      <td>260.78</td>\n",
       "      <td>0.904762</td>\n",
       "    </tr>\n",
       "    <tr>\n",
       "      <th>2</th>\n",
       "      <td>1</td>\n",
       "      <td>0</td>\n",
       "      <td>0</td>\n",
       "      <td>0</td>\n",
       "      <td>0</td>\n",
       "      <td>0</td>\n",
       "      <td>0</td>\n",
       "      <td>0</td>\n",
       "      <td>1</td>\n",
       "      <td>0</td>\n",
       "      <td>...</td>\n",
       "      <td>0</td>\n",
       "      <td>0</td>\n",
       "      <td>2686</td>\n",
       "      <td>0.71</td>\n",
       "      <td>65.5</td>\n",
       "      <td>55.0</td>\n",
       "      <td>171.86</td>\n",
       "      <td>1.6</td>\n",
       "      <td>242.06</td>\n",
       "      <td>0.839695</td>\n",
       "    </tr>\n",
       "    <tr>\n",
       "      <th>3</th>\n",
       "      <td>0</td>\n",
       "      <td>1</td>\n",
       "      <td>0</td>\n",
       "      <td>0</td>\n",
       "      <td>0</td>\n",
       "      <td>1</td>\n",
       "      <td>0</td>\n",
       "      <td>0</td>\n",
       "      <td>0</td>\n",
       "      <td>0</td>\n",
       "      <td>...</td>\n",
       "      <td>0</td>\n",
       "      <td>0</td>\n",
       "      <td>738</td>\n",
       "      <td>0.41</td>\n",
       "      <td>63.8</td>\n",
       "      <td>56.0</td>\n",
       "      <td>104.26</td>\n",
       "      <td>0.9</td>\n",
       "      <td>254.29</td>\n",
       "      <td>0.877743</td>\n",
       "    </tr>\n",
       "    <tr>\n",
       "      <th>4</th>\n",
       "      <td>0</td>\n",
       "      <td>0</td>\n",
       "      <td>1</td>\n",
       "      <td>0</td>\n",
       "      <td>0</td>\n",
       "      <td>0</td>\n",
       "      <td>0</td>\n",
       "      <td>0</td>\n",
       "      <td>1</td>\n",
       "      <td>0</td>\n",
       "      <td>...</td>\n",
       "      <td>0</td>\n",
       "      <td>0</td>\n",
       "      <td>4882</td>\n",
       "      <td>1.02</td>\n",
       "      <td>60.5</td>\n",
       "      <td>59.0</td>\n",
       "      <td>277.59</td>\n",
       "      <td>0.6</td>\n",
       "      <td>272.15</td>\n",
       "      <td>0.975207</td>\n",
       "    </tr>\n",
       "  </tbody>\n",
       "</table>\n",
       "<p>5 rows × 28 columns</p>\n",
       "</div>"
      ],
      "text/plain": [
       "   cut_Fair  cut_Good  cut_Ideal  cut_Premium  cut_Very Good  color_D  \\\n",
       "0         0         0          0            1              0        0   \n",
       "1         0         0          0            0              1        0   \n",
       "2         1         0          0            0              0        0   \n",
       "3         0         1          0            0              0        1   \n",
       "4         0         0          1            0              0        0   \n",
       "\n",
       "   color_E  color_F  color_G  color_H  ...  clarity_VVS1  clarity_VVS2  price  \\\n",
       "0        0        0        0        0  ...             0             0   4268   \n",
       "1        0        0        0        1  ...             0             0    505   \n",
       "2        0        0        1        0  ...             0             0   2686   \n",
       "3        0        0        0        0  ...             0             0    738   \n",
       "4        0        0        1        0  ...             0             0   4882   \n",
       "\n",
       "   carat  depth  table  volume  L/W_ratio  V/W_Ratio  T/D_ratio  \n",
       "0   1.21   62.4   58.0  314.89        0.6     260.24   0.929487  \n",
       "1   0.32   63.0   57.0   83.45        0.7     260.78   0.904762  \n",
       "2   0.71   65.5   55.0  171.86        1.6     242.06   0.839695  \n",
       "3   0.41   63.8   56.0  104.26        0.9     254.29   0.877743  \n",
       "4   1.02   60.5   59.0  277.59        0.6     272.15   0.975207  \n",
       "\n",
       "[5 rows x 28 columns]"
      ]
     },
     "execution_count": 25,
     "metadata": {},
     "output_type": "execute_result"
    }
   ],
   "source": [
    "diamonds_df.head()"
   ]
  },
  {
   "cell_type": "code",
   "execution_count": 26,
   "metadata": {},
   "outputs": [
    {
     "data": {
      "text/plain": [
       "(40378, 28)"
      ]
     },
     "execution_count": 26,
     "metadata": {},
     "output_type": "execute_result"
    }
   ],
   "source": [
    "diamonds_df.shape"
   ]
  },
  {
   "cell_type": "code",
   "execution_count": 27,
   "metadata": {},
   "outputs": [
    {
     "data": {
      "text/html": [
       "<div>\n",
       "<style scoped>\n",
       "    .dataframe tbody tr th:only-of-type {\n",
       "        vertical-align: middle;\n",
       "    }\n",
       "\n",
       "    .dataframe tbody tr th {\n",
       "        vertical-align: top;\n",
       "    }\n",
       "\n",
       "    .dataframe thead th {\n",
       "        text-align: right;\n",
       "    }\n",
       "</style>\n",
       "<table border=\"1\" class=\"dataframe\">\n",
       "  <thead>\n",
       "    <tr style=\"text-align: right;\">\n",
       "      <th></th>\n",
       "      <th>cut_Fair</th>\n",
       "      <th>cut_Good</th>\n",
       "      <th>cut_Ideal</th>\n",
       "      <th>cut_Premium</th>\n",
       "      <th>cut_Very Good</th>\n",
       "      <th>color_D</th>\n",
       "      <th>color_E</th>\n",
       "      <th>color_F</th>\n",
       "      <th>color_G</th>\n",
       "      <th>color_H</th>\n",
       "      <th>...</th>\n",
       "      <th>clarity_VVS1</th>\n",
       "      <th>clarity_VVS2</th>\n",
       "      <th>price</th>\n",
       "      <th>carat</th>\n",
       "      <th>depth</th>\n",
       "      <th>table</th>\n",
       "      <th>volume</th>\n",
       "      <th>L/W_ratio</th>\n",
       "      <th>V/W_Ratio</th>\n",
       "      <th>T/D_ratio</th>\n",
       "    </tr>\n",
       "  </thead>\n",
       "  <tbody>\n",
       "    <tr>\n",
       "      <th>150</th>\n",
       "      <td>0</td>\n",
       "      <td>1</td>\n",
       "      <td>0</td>\n",
       "      <td>0</td>\n",
       "      <td>0</td>\n",
       "      <td>0</td>\n",
       "      <td>1</td>\n",
       "      <td>0</td>\n",
       "      <td>0</td>\n",
       "      <td>0</td>\n",
       "      <td>...</td>\n",
       "      <td>0</td>\n",
       "      <td>0</td>\n",
       "      <td>5379</td>\n",
       "      <td>1.01</td>\n",
       "      <td>64.3</td>\n",
       "      <td>59.0</td>\n",
       "      <td>245.70</td>\n",
       "      <td>0.8</td>\n",
       "      <td>243.27</td>\n",
       "      <td>0.917574</td>\n",
       "    </tr>\n",
       "    <tr>\n",
       "      <th>169</th>\n",
       "      <td>0</td>\n",
       "      <td>1</td>\n",
       "      <td>0</td>\n",
       "      <td>0</td>\n",
       "      <td>0</td>\n",
       "      <td>0</td>\n",
       "      <td>1</td>\n",
       "      <td>0</td>\n",
       "      <td>0</td>\n",
       "      <td>0</td>\n",
       "      <td>...</td>\n",
       "      <td>0</td>\n",
       "      <td>0</td>\n",
       "      <td>6937</td>\n",
       "      <td>1.19</td>\n",
       "      <td>57.4</td>\n",
       "      <td>60.0</td>\n",
       "      <td>338.10</td>\n",
       "      <td>1.4</td>\n",
       "      <td>284.12</td>\n",
       "      <td>1.045296</td>\n",
       "    </tr>\n",
       "    <tr>\n",
       "      <th>196</th>\n",
       "      <td>0</td>\n",
       "      <td>1</td>\n",
       "      <td>0</td>\n",
       "      <td>0</td>\n",
       "      <td>0</td>\n",
       "      <td>0</td>\n",
       "      <td>1</td>\n",
       "      <td>0</td>\n",
       "      <td>0</td>\n",
       "      <td>0</td>\n",
       "      <td>...</td>\n",
       "      <td>0</td>\n",
       "      <td>0</td>\n",
       "      <td>3795</td>\n",
       "      <td>0.90</td>\n",
       "      <td>63.9</td>\n",
       "      <td>57.0</td>\n",
       "      <td>226.23</td>\n",
       "      <td>0.7</td>\n",
       "      <td>251.37</td>\n",
       "      <td>0.892019</td>\n",
       "    </tr>\n",
       "    <tr>\n",
       "      <th>368</th>\n",
       "      <td>0</td>\n",
       "      <td>1</td>\n",
       "      <td>0</td>\n",
       "      <td>0</td>\n",
       "      <td>0</td>\n",
       "      <td>0</td>\n",
       "      <td>1</td>\n",
       "      <td>0</td>\n",
       "      <td>0</td>\n",
       "      <td>0</td>\n",
       "      <td>...</td>\n",
       "      <td>0</td>\n",
       "      <td>0</td>\n",
       "      <td>1163</td>\n",
       "      <td>0.54</td>\n",
       "      <td>63.8</td>\n",
       "      <td>54.0</td>\n",
       "      <td>138.72</td>\n",
       "      <td>0.2</td>\n",
       "      <td>256.89</td>\n",
       "      <td>0.846395</td>\n",
       "    </tr>\n",
       "    <tr>\n",
       "      <th>389</th>\n",
       "      <td>0</td>\n",
       "      <td>1</td>\n",
       "      <td>0</td>\n",
       "      <td>0</td>\n",
       "      <td>0</td>\n",
       "      <td>0</td>\n",
       "      <td>1</td>\n",
       "      <td>0</td>\n",
       "      <td>0</td>\n",
       "      <td>0</td>\n",
       "      <td>...</td>\n",
       "      <td>0</td>\n",
       "      <td>1</td>\n",
       "      <td>1059</td>\n",
       "      <td>0.40</td>\n",
       "      <td>58.5</td>\n",
       "      <td>60.0</td>\n",
       "      <td>113.85</td>\n",
       "      <td>0.8</td>\n",
       "      <td>284.62</td>\n",
       "      <td>1.025641</td>\n",
       "    </tr>\n",
       "  </tbody>\n",
       "</table>\n",
       "<p>5 rows × 28 columns</p>\n",
       "</div>"
      ],
      "text/plain": [
       "     cut_Fair  cut_Good  cut_Ideal  cut_Premium  cut_Very Good  color_D  \\\n",
       "150         0         1          0            0              0        0   \n",
       "169         0         1          0            0              0        0   \n",
       "196         0         1          0            0              0        0   \n",
       "368         0         1          0            0              0        0   \n",
       "389         0         1          0            0              0        0   \n",
       "\n",
       "     color_E  color_F  color_G  color_H  ...  clarity_VVS1  clarity_VVS2  \\\n",
       "150        1        0        0        0  ...             0             0   \n",
       "169        1        0        0        0  ...             0             0   \n",
       "196        1        0        0        0  ...             0             0   \n",
       "368        1        0        0        0  ...             0             0   \n",
       "389        1        0        0        0  ...             0             1   \n",
       "\n",
       "     price  carat  depth  table  volume  L/W_ratio  V/W_Ratio  T/D_ratio  \n",
       "150   5379   1.01   64.3   59.0  245.70        0.8     243.27   0.917574  \n",
       "169   6937   1.19   57.4   60.0  338.10        1.4     284.12   1.045296  \n",
       "196   3795   0.90   63.9   57.0  226.23        0.7     251.37   0.892019  \n",
       "368   1163   0.54   63.8   54.0  138.72        0.2     256.89   0.846395  \n",
       "389   1059   0.40   58.5   60.0  113.85        0.8     284.62   1.025641  \n",
       "\n",
       "[5 rows x 28 columns]"
      ]
     },
     "execution_count": 27,
     "metadata": {},
     "output_type": "execute_result"
    }
   ],
   "source": [
    "sub_test_1 = diamonds_df[(diamonds_df['cut_Good'] == 1) & (diamonds_df['color_E'] == 1)]\n",
    "\n",
    "sub_test_1.head()"
   ]
  },
  {
   "cell_type": "code",
   "execution_count": 28,
   "metadata": {},
   "outputs": [
    {
     "data": {
      "text/html": [
       "<div>\n",
       "<style scoped>\n",
       "    .dataframe tbody tr th:only-of-type {\n",
       "        vertical-align: middle;\n",
       "    }\n",
       "\n",
       "    .dataframe tbody tr th {\n",
       "        vertical-align: top;\n",
       "    }\n",
       "\n",
       "    .dataframe thead th {\n",
       "        text-align: right;\n",
       "    }\n",
       "</style>\n",
       "<table border=\"1\" class=\"dataframe\">\n",
       "  <thead>\n",
       "    <tr style=\"text-align: right;\">\n",
       "      <th></th>\n",
       "      <th>cut_Fair</th>\n",
       "      <th>cut_Good</th>\n",
       "      <th>cut_Ideal</th>\n",
       "      <th>cut_Premium</th>\n",
       "      <th>cut_Very Good</th>\n",
       "      <th>color_D</th>\n",
       "      <th>color_E</th>\n",
       "      <th>color_F</th>\n",
       "      <th>color_G</th>\n",
       "      <th>color_H</th>\n",
       "      <th>...</th>\n",
       "      <th>clarity_VVS1</th>\n",
       "      <th>clarity_VVS2</th>\n",
       "      <th>price</th>\n",
       "      <th>carat</th>\n",
       "      <th>depth</th>\n",
       "      <th>table</th>\n",
       "      <th>volume</th>\n",
       "      <th>L/W_ratio</th>\n",
       "      <th>V/W_Ratio</th>\n",
       "      <th>T/D_ratio</th>\n",
       "    </tr>\n",
       "  </thead>\n",
       "  <tbody>\n",
       "    <tr>\n",
       "      <th>122</th>\n",
       "      <td>0</td>\n",
       "      <td>1</td>\n",
       "      <td>0</td>\n",
       "      <td>0</td>\n",
       "      <td>0</td>\n",
       "      <td>0</td>\n",
       "      <td>0</td>\n",
       "      <td>1</td>\n",
       "      <td>0</td>\n",
       "      <td>0</td>\n",
       "      <td>...</td>\n",
       "      <td>0</td>\n",
       "      <td>0</td>\n",
       "      <td>1350</td>\n",
       "      <td>0.52</td>\n",
       "      <td>58.7</td>\n",
       "      <td>64.0</td>\n",
       "      <td>144.98</td>\n",
       "      <td>0.4</td>\n",
       "      <td>278.81</td>\n",
       "      <td>1.090290</td>\n",
       "    </tr>\n",
       "    <tr>\n",
       "      <th>372</th>\n",
       "      <td>0</td>\n",
       "      <td>1</td>\n",
       "      <td>0</td>\n",
       "      <td>0</td>\n",
       "      <td>0</td>\n",
       "      <td>0</td>\n",
       "      <td>0</td>\n",
       "      <td>1</td>\n",
       "      <td>0</td>\n",
       "      <td>0</td>\n",
       "      <td>...</td>\n",
       "      <td>0</td>\n",
       "      <td>0</td>\n",
       "      <td>2059</td>\n",
       "      <td>0.70</td>\n",
       "      <td>64.3</td>\n",
       "      <td>63.0</td>\n",
       "      <td>171.88</td>\n",
       "      <td>0.5</td>\n",
       "      <td>245.54</td>\n",
       "      <td>0.979782</td>\n",
       "    </tr>\n",
       "    <tr>\n",
       "      <th>375</th>\n",
       "      <td>0</td>\n",
       "      <td>1</td>\n",
       "      <td>0</td>\n",
       "      <td>0</td>\n",
       "      <td>0</td>\n",
       "      <td>0</td>\n",
       "      <td>0</td>\n",
       "      <td>1</td>\n",
       "      <td>0</td>\n",
       "      <td>0</td>\n",
       "      <td>...</td>\n",
       "      <td>0</td>\n",
       "      <td>0</td>\n",
       "      <td>4508</td>\n",
       "      <td>0.90</td>\n",
       "      <td>63.3</td>\n",
       "      <td>59.0</td>\n",
       "      <td>222.17</td>\n",
       "      <td>0.7</td>\n",
       "      <td>246.86</td>\n",
       "      <td>0.932070</td>\n",
       "    </tr>\n",
       "    <tr>\n",
       "      <th>446</th>\n",
       "      <td>0</td>\n",
       "      <td>1</td>\n",
       "      <td>0</td>\n",
       "      <td>0</td>\n",
       "      <td>0</td>\n",
       "      <td>0</td>\n",
       "      <td>0</td>\n",
       "      <td>1</td>\n",
       "      <td>0</td>\n",
       "      <td>0</td>\n",
       "      <td>...</td>\n",
       "      <td>0</td>\n",
       "      <td>0</td>\n",
       "      <td>6794</td>\n",
       "      <td>1.01</td>\n",
       "      <td>59.0</td>\n",
       "      <td>62.0</td>\n",
       "      <td>285.75</td>\n",
       "      <td>0.6</td>\n",
       "      <td>282.92</td>\n",
       "      <td>1.050847</td>\n",
       "    </tr>\n",
       "    <tr>\n",
       "      <th>477</th>\n",
       "      <td>0</td>\n",
       "      <td>1</td>\n",
       "      <td>0</td>\n",
       "      <td>0</td>\n",
       "      <td>0</td>\n",
       "      <td>0</td>\n",
       "      <td>0</td>\n",
       "      <td>1</td>\n",
       "      <td>0</td>\n",
       "      <td>0</td>\n",
       "      <td>...</td>\n",
       "      <td>0</td>\n",
       "      <td>0</td>\n",
       "      <td>1357</td>\n",
       "      <td>0.52</td>\n",
       "      <td>63.6</td>\n",
       "      <td>62.0</td>\n",
       "      <td>124.73</td>\n",
       "      <td>2.2</td>\n",
       "      <td>239.87</td>\n",
       "      <td>0.974843</td>\n",
       "    </tr>\n",
       "  </tbody>\n",
       "</table>\n",
       "<p>5 rows × 28 columns</p>\n",
       "</div>"
      ],
      "text/plain": [
       "     cut_Fair  cut_Good  cut_Ideal  cut_Premium  cut_Very Good  color_D  \\\n",
       "122         0         1          0            0              0        0   \n",
       "372         0         1          0            0              0        0   \n",
       "375         0         1          0            0              0        0   \n",
       "446         0         1          0            0              0        0   \n",
       "477         0         1          0            0              0        0   \n",
       "\n",
       "     color_E  color_F  color_G  color_H  ...  clarity_VVS1  clarity_VVS2  \\\n",
       "122        0        1        0        0  ...             0             0   \n",
       "372        0        1        0        0  ...             0             0   \n",
       "375        0        1        0        0  ...             0             0   \n",
       "446        0        1        0        0  ...             0             0   \n",
       "477        0        1        0        0  ...             0             0   \n",
       "\n",
       "     price  carat  depth  table  volume  L/W_ratio  V/W_Ratio  T/D_ratio  \n",
       "122   1350   0.52   58.7   64.0  144.98        0.4     278.81   1.090290  \n",
       "372   2059   0.70   64.3   63.0  171.88        0.5     245.54   0.979782  \n",
       "375   4508   0.90   63.3   59.0  222.17        0.7     246.86   0.932070  \n",
       "446   6794   1.01   59.0   62.0  285.75        0.6     282.92   1.050847  \n",
       "477   1357   0.52   63.6   62.0  124.73        2.2     239.87   0.974843  \n",
       "\n",
       "[5 rows x 28 columns]"
      ]
     },
     "execution_count": 28,
     "metadata": {},
     "output_type": "execute_result"
    }
   ],
   "source": [
    "sub_test_2 = diamonds_df[(diamonds_df['cut_Good'] == 1) & (diamonds_df['color_F'] == 1)]\n",
    "\n",
    "sub_test_2.head()"
   ]
  },
  {
   "cell_type": "markdown",
   "metadata": {},
   "source": [
    "## 1. Sample vs Constant\n",
    "\n",
    "We know from the available literature that diamonds average price rounds about 4000 USD. The aim is to test whether the prices in our sample are significantly different from the literature value. Give some conclusions about the implications of your test results."
   ]
  },
  {
   "cell_type": "code",
   "execution_count": 30,
   "metadata": {},
   "outputs": [
    {
     "data": {
      "text/plain": [
       "True"
      ]
     },
     "metadata": {},
     "output_type": "display_data"
    },
    {
     "data": {
      "text/plain": [
       "0.0001323556608487217"
      ]
     },
     "metadata": {},
     "output_type": "display_data"
    },
    {
     "name": "stdout",
     "output_type": "stream",
     "text": [
      "6.617783042436085e-05\n"
     ]
    }
   ],
   "source": [
    "constant = 4000\n",
    "\n",
    "test_results = ttest_1samp(diamonds_df['price'], 4000)\n",
    "p_value_good = test_results.pvalue /2\n",
    "\n",
    "display(p_value_good) # scipy is p_value of both sides\n",
    "\n",
    "print(f\"Null Hypothesis: }\")\n",
    "print(f\"Can we reject Null Hypothesis: \\t{p_value < 0.05}\")"
   ]
  },
  {
   "cell_type": "code",
   "execution_count": 51,
   "metadata": {},
   "outputs": [],
   "source": [
    "mu = 4000\n",
    "mu_hat = diamonds_df['price'].mean()\n",
    "n = diamonds_df.shape[0]\n",
    "std_hat = diamonds_df['price'].std()"
   ]
  },
  {
   "cell_type": "code",
   "execution_count": 52,
   "metadata": {},
   "outputs": [
    {
     "data": {
      "text/plain": [
       "-3.8224029682839293"
      ]
     },
     "execution_count": 52,
     "metadata": {},
     "output_type": "execute_result"
    }
   ],
   "source": [
    "t_test = (mu_hat - mu) / (std_hat / np.sqrt(n))\n",
    "t_test\n",
    "\n",
    "# t_test is the same as scipy"
   ]
  },
  {
   "cell_type": "code",
   "execution_count": 48,
   "metadata": {},
   "outputs": [
    {
     "name": "stdout",
     "output_type": "stream",
     "text": [
      "0.0001323556608487217\n"
     ]
    }
   ],
   "source": [
    "rv = t(df=n-1)\n",
    "p_value = rv.cdf(t_test)\n",
    "\n",
    "print(p_value * 2)"
   ]
  },
  {
   "cell_type": "markdown",
   "metadata": {},
   "source": [
    "## 2"
   ]
  },
  {
   "cell_type": "code",
   "execution_count": 26,
   "metadata": {},
   "outputs": [
    {
     "data": {
      "text/plain": [
       "-4.750641654253357"
      ]
     },
     "metadata": {},
     "output_type": "display_data"
    },
    {
     "data": {
      "text/plain": [
       "True"
      ]
     },
     "metadata": {},
     "output_type": "display_data"
    }
   ],
   "source": [
    "test_results = ttest_1samp(sub_test_1['price'], 4000)\n",
    "display(test_results.statistic)\n",
    "display(test_results.pvalue < 0.05)"
   ]
  },
  {
   "cell_type": "code",
   "execution_count": 27,
   "metadata": {},
   "outputs": [
    {
     "name": "stdout",
     "output_type": "stream",
     "text": [
      "-4.750641654253357\n",
      "2.4685583057365885e-06\n"
     ]
    }
   ],
   "source": [
    "print(test_results.statistic)\n",
    "print(test_results.pvalue)"
   ]
  },
  {
   "cell_type": "code",
   "execution_count": 28,
   "metadata": {},
   "outputs": [
    {
     "data": {
      "text/plain": [
       "-4.210391894626057"
      ]
     },
     "metadata": {},
     "output_type": "display_data"
    },
    {
     "data": {
      "text/plain": [
       "True"
      ]
     },
     "metadata": {},
     "output_type": "display_data"
    }
   ],
   "source": [
    "test_results = ttest_1samp(sub_test_2['price'], 4000)\n",
    "display(test_results.statistic)\n",
    "display(test_results.pvalue < 0.05)"
   ]
  },
  {
   "cell_type": "code",
   "execution_count": 29,
   "metadata": {},
   "outputs": [
    {
     "name": "stdout",
     "output_type": "stream",
     "text": [
      "-4.210391894626057\n",
      "2.9024656067624447e-05\n"
     ]
    }
   ],
   "source": [
    "print(test_results.statistic)\n",
    "print(test_results.pvalue)"
   ]
  },
  {
   "cell_type": "markdown",
   "metadata": {},
   "source": [
    "## 3"
   ]
  },
  {
   "cell_type": "markdown",
   "metadata": {},
   "source": [
    "More relevant values in other cut ranges.. See potacho \n",
    "\n",
    "Sub-Test 1: Fair cut + color G vs. Fair cut + color I\n",
    "\n",
    "Sub-Test 2: Good cut + color E vs. Good cut + color F\n",
    "\n",
    "Sub-Test 3: Ideal cut + color D vs. Ideal cut + color E\n",
    "\n",
    "Sub-Test 4: Premium cut + color D vs. Premium cut + color E\n",
    "\n",
    "Sub-Test 5: Very Good cut + color I vs. Very Good cut + color J\n",
    "\n",
    "Sub-Test 6: All cuts + color D vs. All cuts + color E"
   ]
  },
  {
   "cell_type": "code",
   "execution_count": null,
   "metadata": {},
   "outputs": [],
   "source": []
  }
 ],
 "metadata": {
  "kernelspec": {
   "display_name": "Python (jupyter_env)",
   "language": "python",
   "name": "jupyter_env"
  },
  "language_info": {
   "codemirror_mode": {
    "name": "ipython",
    "version": 3
   },
   "file_extension": ".py",
   "mimetype": "text/x-python",
   "name": "python",
   "nbconvert_exporter": "python",
   "pygments_lexer": "ipython3",
   "version": "3.7.7"
  }
 },
 "nbformat": 4,
 "nbformat_minor": 4
}
