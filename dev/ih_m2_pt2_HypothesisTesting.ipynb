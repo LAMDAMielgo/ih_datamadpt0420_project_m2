{
 "cells": [
  {
   "cell_type": "markdown",
   "metadata": {},
   "source": [
    "## HYPOTHESIS TESTING"
   ]
  },
  {
   "cell_type": "code",
   "execution_count": 3,
   "metadata": {},
   "outputs": [],
   "source": [
    "import numpy as np\n",
    "import pandas as pd\n",
    "\n",
    "from scipy.stats import t\n",
    "from scipy.stats import norm\n",
    "from scipy.stats import ttest_1samp\n",
    "\n",
    "%matplotlib inline"
   ]
  },
  {
   "cell_type": "markdown",
   "metadata": {},
   "source": [
    "4000 USD\n",
    "\n",
    "Sub-Test 2: Good cut + color E vs. Good cut + color F"
   ]
  },
  {
   "cell_type": "code",
   "execution_count": 5,
   "metadata": {},
   "outputs": [],
   "source": [
    "path_cleaned_data = '../data/clean/diamonds_cleaned.csv'\n",
    "\n",
    "diamonds_df = pd.read_csv(path_cleaned_data)"
   ]
  },
  {
   "cell_type": "code",
   "execution_count": 6,
   "metadata": {},
   "outputs": [
    {
     "data": {
      "text/html": [
       "<div>\n",
       "<style scoped>\n",
       "    .dataframe tbody tr th:only-of-type {\n",
       "        vertical-align: middle;\n",
       "    }\n",
       "\n",
       "    .dataframe tbody tr th {\n",
       "        vertical-align: top;\n",
       "    }\n",
       "\n",
       "    .dataframe thead th {\n",
       "        text-align: right;\n",
       "    }\n",
       "</style>\n",
       "<table border=\"1\" class=\"dataframe\">\n",
       "  <thead>\n",
       "    <tr style=\"text-align: right;\">\n",
       "      <th></th>\n",
       "      <th>Unnamed: 0</th>\n",
       "      <th>price</th>\n",
       "      <th>carat</th>\n",
       "      <th>cut</th>\n",
       "      <th>color</th>\n",
       "      <th>clarity</th>\n",
       "      <th>depth</th>\n",
       "      <th>table</th>\n",
       "      <th>volume</th>\n",
       "      <th>L/W_ratio</th>\n",
       "      <th>V/W_Ratio</th>\n",
       "      <th>color_num</th>\n",
       "      <th>clarity_num</th>\n",
       "      <th>cut_num</th>\n",
       "      <th>carat_range</th>\n",
       "      <th>table_range</th>\n",
       "      <th>color_range</th>\n",
       "    </tr>\n",
       "  </thead>\n",
       "  <tbody>\n",
       "    <tr>\n",
       "      <th>0</th>\n",
       "      <td>0</td>\n",
       "      <td>4268</td>\n",
       "      <td>1.21</td>\n",
       "      <td>Premium</td>\n",
       "      <td>J</td>\n",
       "      <td>VS2</td>\n",
       "      <td>62.4</td>\n",
       "      <td>58.0</td>\n",
       "      <td>314.89</td>\n",
       "      <td>0.6</td>\n",
       "      <td>260.24</td>\n",
       "      <td>7</td>\n",
       "      <td>5</td>\n",
       "      <td>2</td>\n",
       "      <td>8</td>\n",
       "      <td>9</td>\n",
       "      <td>N-CL</td>\n",
       "    </tr>\n",
       "    <tr>\n",
       "      <th>1</th>\n",
       "      <td>1</td>\n",
       "      <td>505</td>\n",
       "      <td>0.32</td>\n",
       "      <td>Very Good</td>\n",
       "      <td>H</td>\n",
       "      <td>VS2</td>\n",
       "      <td>63.0</td>\n",
       "      <td>57.0</td>\n",
       "      <td>83.45</td>\n",
       "      <td>0.7</td>\n",
       "      <td>260.78</td>\n",
       "      <td>5</td>\n",
       "      <td>5</td>\n",
       "      <td>3</td>\n",
       "      <td>2</td>\n",
       "      <td>8</td>\n",
       "      <td>N-CL</td>\n",
       "    </tr>\n",
       "    <tr>\n",
       "      <th>2</th>\n",
       "      <td>2</td>\n",
       "      <td>2686</td>\n",
       "      <td>0.71</td>\n",
       "      <td>Fair</td>\n",
       "      <td>G</td>\n",
       "      <td>VS1</td>\n",
       "      <td>65.5</td>\n",
       "      <td>55.0</td>\n",
       "      <td>171.86</td>\n",
       "      <td>1.6</td>\n",
       "      <td>242.06</td>\n",
       "      <td>4</td>\n",
       "      <td>4</td>\n",
       "      <td>5</td>\n",
       "      <td>5</td>\n",
       "      <td>6</td>\n",
       "      <td>N-CL</td>\n",
       "    </tr>\n",
       "    <tr>\n",
       "      <th>3</th>\n",
       "      <td>3</td>\n",
       "      <td>738</td>\n",
       "      <td>0.41</td>\n",
       "      <td>Good</td>\n",
       "      <td>D</td>\n",
       "      <td>SI1</td>\n",
       "      <td>63.8</td>\n",
       "      <td>56.0</td>\n",
       "      <td>104.26</td>\n",
       "      <td>0.9</td>\n",
       "      <td>254.29</td>\n",
       "      <td>1</td>\n",
       "      <td>6</td>\n",
       "      <td>4</td>\n",
       "      <td>3</td>\n",
       "      <td>7</td>\n",
       "      <td>CL</td>\n",
       "    </tr>\n",
       "    <tr>\n",
       "      <th>4</th>\n",
       "      <td>4</td>\n",
       "      <td>4882</td>\n",
       "      <td>1.02</td>\n",
       "      <td>Ideal</td>\n",
       "      <td>G</td>\n",
       "      <td>SI1</td>\n",
       "      <td>60.5</td>\n",
       "      <td>59.0</td>\n",
       "      <td>277.59</td>\n",
       "      <td>0.6</td>\n",
       "      <td>272.15</td>\n",
       "      <td>4</td>\n",
       "      <td>6</td>\n",
       "      <td>1</td>\n",
       "      <td>7</td>\n",
       "      <td>10</td>\n",
       "      <td>N-CL</td>\n",
       "    </tr>\n",
       "  </tbody>\n",
       "</table>\n",
       "</div>"
      ],
      "text/plain": [
       "   Unnamed: 0  price  carat        cut color clarity  depth  table  volume  \\\n",
       "0           0   4268   1.21    Premium     J     VS2   62.4   58.0  314.89   \n",
       "1           1    505   0.32  Very Good     H     VS2   63.0   57.0   83.45   \n",
       "2           2   2686   0.71       Fair     G     VS1   65.5   55.0  171.86   \n",
       "3           3    738   0.41       Good     D     SI1   63.8   56.0  104.26   \n",
       "4           4   4882   1.02      Ideal     G     SI1   60.5   59.0  277.59   \n",
       "\n",
       "   L/W_ratio  V/W_Ratio  color_num  clarity_num  cut_num  carat_range  \\\n",
       "0        0.6     260.24          7            5        2            8   \n",
       "1        0.7     260.78          5            5        3            2   \n",
       "2        1.6     242.06          4            4        5            5   \n",
       "3        0.9     254.29          1            6        4            3   \n",
       "4        0.6     272.15          4            6        1            7   \n",
       "\n",
       "   table_range color_range  \n",
       "0            9        N-CL  \n",
       "1            8        N-CL  \n",
       "2            6        N-CL  \n",
       "3            7          CL  \n",
       "4           10        N-CL  "
      ]
     },
     "execution_count": 6,
     "metadata": {},
     "output_type": "execute_result"
    }
   ],
   "source": [
    "diamonds_df.head()"
   ]
  },
  {
   "cell_type": "code",
   "execution_count": 7,
   "metadata": {},
   "outputs": [
    {
     "data": {
      "text/plain": [
       "(40378, 17)"
      ]
     },
     "execution_count": 7,
     "metadata": {},
     "output_type": "execute_result"
    }
   ],
   "source": [
    "diamonds_df.shape"
   ]
  },
  {
   "cell_type": "code",
   "execution_count": 14,
   "metadata": {},
   "outputs": [
    {
     "data": {
      "text/html": [
       "<div>\n",
       "<style scoped>\n",
       "    .dataframe tbody tr th:only-of-type {\n",
       "        vertical-align: middle;\n",
       "    }\n",
       "\n",
       "    .dataframe tbody tr th {\n",
       "        vertical-align: top;\n",
       "    }\n",
       "\n",
       "    .dataframe thead th {\n",
       "        text-align: right;\n",
       "    }\n",
       "</style>\n",
       "<table border=\"1\" class=\"dataframe\">\n",
       "  <thead>\n",
       "    <tr style=\"text-align: right;\">\n",
       "      <th></th>\n",
       "      <th>Unnamed: 0</th>\n",
       "      <th>price</th>\n",
       "      <th>carat</th>\n",
       "      <th>cut</th>\n",
       "      <th>color</th>\n",
       "      <th>clarity</th>\n",
       "      <th>depth</th>\n",
       "      <th>table</th>\n",
       "      <th>volume</th>\n",
       "      <th>L/W_ratio</th>\n",
       "      <th>V/W_Ratio</th>\n",
       "      <th>color_num</th>\n",
       "      <th>clarity_num</th>\n",
       "      <th>cut_num</th>\n",
       "      <th>carat_range</th>\n",
       "      <th>table_range</th>\n",
       "      <th>color_range</th>\n",
       "    </tr>\n",
       "  </thead>\n",
       "  <tbody>\n",
       "    <tr>\n",
       "      <th>150</th>\n",
       "      <td>150</td>\n",
       "      <td>5379</td>\n",
       "      <td>1.01</td>\n",
       "      <td>Good</td>\n",
       "      <td>E</td>\n",
       "      <td>SI1</td>\n",
       "      <td>64.3</td>\n",
       "      <td>59.0</td>\n",
       "      <td>245.70</td>\n",
       "      <td>0.8</td>\n",
       "      <td>243.27</td>\n",
       "      <td>2</td>\n",
       "      <td>6</td>\n",
       "      <td>4</td>\n",
       "      <td>7</td>\n",
       "      <td>10</td>\n",
       "      <td>CL</td>\n",
       "    </tr>\n",
       "    <tr>\n",
       "      <th>169</th>\n",
       "      <td>169</td>\n",
       "      <td>6937</td>\n",
       "      <td>1.19</td>\n",
       "      <td>Good</td>\n",
       "      <td>E</td>\n",
       "      <td>VS2</td>\n",
       "      <td>57.4</td>\n",
       "      <td>60.0</td>\n",
       "      <td>338.10</td>\n",
       "      <td>1.4</td>\n",
       "      <td>284.12</td>\n",
       "      <td>2</td>\n",
       "      <td>5</td>\n",
       "      <td>4</td>\n",
       "      <td>7</td>\n",
       "      <td>11</td>\n",
       "      <td>CL</td>\n",
       "    </tr>\n",
       "    <tr>\n",
       "      <th>196</th>\n",
       "      <td>196</td>\n",
       "      <td>3795</td>\n",
       "      <td>0.90</td>\n",
       "      <td>Good</td>\n",
       "      <td>E</td>\n",
       "      <td>SI1</td>\n",
       "      <td>63.9</td>\n",
       "      <td>57.0</td>\n",
       "      <td>226.23</td>\n",
       "      <td>0.7</td>\n",
       "      <td>251.37</td>\n",
       "      <td>2</td>\n",
       "      <td>6</td>\n",
       "      <td>4</td>\n",
       "      <td>5</td>\n",
       "      <td>8</td>\n",
       "      <td>CL</td>\n",
       "    </tr>\n",
       "    <tr>\n",
       "      <th>368</th>\n",
       "      <td>369</td>\n",
       "      <td>1163</td>\n",
       "      <td>0.54</td>\n",
       "      <td>Good</td>\n",
       "      <td>E</td>\n",
       "      <td>SI2</td>\n",
       "      <td>63.8</td>\n",
       "      <td>54.0</td>\n",
       "      <td>138.72</td>\n",
       "      <td>0.2</td>\n",
       "      <td>256.89</td>\n",
       "      <td>2</td>\n",
       "      <td>7</td>\n",
       "      <td>4</td>\n",
       "      <td>4</td>\n",
       "      <td>5</td>\n",
       "      <td>CL</td>\n",
       "    </tr>\n",
       "    <tr>\n",
       "      <th>389</th>\n",
       "      <td>390</td>\n",
       "      <td>1059</td>\n",
       "      <td>0.40</td>\n",
       "      <td>Good</td>\n",
       "      <td>E</td>\n",
       "      <td>VVS2</td>\n",
       "      <td>58.5</td>\n",
       "      <td>60.0</td>\n",
       "      <td>113.85</td>\n",
       "      <td>0.8</td>\n",
       "      <td>284.62</td>\n",
       "      <td>2</td>\n",
       "      <td>3</td>\n",
       "      <td>4</td>\n",
       "      <td>2</td>\n",
       "      <td>11</td>\n",
       "      <td>CL</td>\n",
       "    </tr>\n",
       "  </tbody>\n",
       "</table>\n",
       "</div>"
      ],
      "text/plain": [
       "     Unnamed: 0  price  carat   cut color clarity  depth  table  volume  \\\n",
       "150         150   5379   1.01  Good     E     SI1   64.3   59.0  245.70   \n",
       "169         169   6937   1.19  Good     E     VS2   57.4   60.0  338.10   \n",
       "196         196   3795   0.90  Good     E     SI1   63.9   57.0  226.23   \n",
       "368         369   1163   0.54  Good     E     SI2   63.8   54.0  138.72   \n",
       "389         390   1059   0.40  Good     E    VVS2   58.5   60.0  113.85   \n",
       "\n",
       "     L/W_ratio  V/W_Ratio  color_num  clarity_num  cut_num  carat_range  \\\n",
       "150        0.8     243.27          2            6        4            7   \n",
       "169        1.4     284.12          2            5        4            7   \n",
       "196        0.7     251.37          2            6        4            5   \n",
       "368        0.2     256.89          2            7        4            4   \n",
       "389        0.8     284.62          2            3        4            2   \n",
       "\n",
       "     table_range color_range  \n",
       "150           10          CL  \n",
       "169           11          CL  \n",
       "196            8          CL  \n",
       "368            5          CL  \n",
       "389           11          CL  "
      ]
     },
     "execution_count": 14,
     "metadata": {},
     "output_type": "execute_result"
    }
   ],
   "source": [
    "sub_test_1 = diamonds_df[(diamonds_df['cut'] == 'Good') & (diamonds_df['color'] == 'E')]\n",
    "\n",
    "sub_test_1.head()"
   ]
  },
  {
   "cell_type": "code",
   "execution_count": 15,
   "metadata": {},
   "outputs": [
    {
     "data": {
      "text/html": [
       "<div>\n",
       "<style scoped>\n",
       "    .dataframe tbody tr th:only-of-type {\n",
       "        vertical-align: middle;\n",
       "    }\n",
       "\n",
       "    .dataframe tbody tr th {\n",
       "        vertical-align: top;\n",
       "    }\n",
       "\n",
       "    .dataframe thead th {\n",
       "        text-align: right;\n",
       "    }\n",
       "</style>\n",
       "<table border=\"1\" class=\"dataframe\">\n",
       "  <thead>\n",
       "    <tr style=\"text-align: right;\">\n",
       "      <th></th>\n",
       "      <th>Unnamed: 0</th>\n",
       "      <th>price</th>\n",
       "      <th>carat</th>\n",
       "      <th>cut</th>\n",
       "      <th>color</th>\n",
       "      <th>clarity</th>\n",
       "      <th>depth</th>\n",
       "      <th>table</th>\n",
       "      <th>volume</th>\n",
       "      <th>L/W_ratio</th>\n",
       "      <th>V/W_Ratio</th>\n",
       "      <th>color_num</th>\n",
       "      <th>clarity_num</th>\n",
       "      <th>cut_num</th>\n",
       "      <th>carat_range</th>\n",
       "      <th>table_range</th>\n",
       "      <th>color_range</th>\n",
       "    </tr>\n",
       "  </thead>\n",
       "  <tbody>\n",
       "    <tr>\n",
       "      <th>122</th>\n",
       "      <td>122</td>\n",
       "      <td>1350</td>\n",
       "      <td>0.52</td>\n",
       "      <td>Good</td>\n",
       "      <td>F</td>\n",
       "      <td>SI2</td>\n",
       "      <td>58.7</td>\n",
       "      <td>64.0</td>\n",
       "      <td>144.98</td>\n",
       "      <td>0.4</td>\n",
       "      <td>278.81</td>\n",
       "      <td>3</td>\n",
       "      <td>7</td>\n",
       "      <td>4</td>\n",
       "      <td>4</td>\n",
       "      <td>15</td>\n",
       "      <td>CL</td>\n",
       "    </tr>\n",
       "    <tr>\n",
       "      <th>372</th>\n",
       "      <td>373</td>\n",
       "      <td>2059</td>\n",
       "      <td>0.70</td>\n",
       "      <td>Good</td>\n",
       "      <td>F</td>\n",
       "      <td>SI1</td>\n",
       "      <td>64.3</td>\n",
       "      <td>63.0</td>\n",
       "      <td>171.88</td>\n",
       "      <td>0.5</td>\n",
       "      <td>245.54</td>\n",
       "      <td>3</td>\n",
       "      <td>6</td>\n",
       "      <td>4</td>\n",
       "      <td>4</td>\n",
       "      <td>14</td>\n",
       "      <td>CL</td>\n",
       "    </tr>\n",
       "    <tr>\n",
       "      <th>375</th>\n",
       "      <td>376</td>\n",
       "      <td>4508</td>\n",
       "      <td>0.90</td>\n",
       "      <td>Good</td>\n",
       "      <td>F</td>\n",
       "      <td>VS1</td>\n",
       "      <td>63.3</td>\n",
       "      <td>59.0</td>\n",
       "      <td>222.17</td>\n",
       "      <td>0.7</td>\n",
       "      <td>246.86</td>\n",
       "      <td>3</td>\n",
       "      <td>4</td>\n",
       "      <td>4</td>\n",
       "      <td>5</td>\n",
       "      <td>10</td>\n",
       "      <td>CL</td>\n",
       "    </tr>\n",
       "    <tr>\n",
       "      <th>446</th>\n",
       "      <td>448</td>\n",
       "      <td>6794</td>\n",
       "      <td>1.01</td>\n",
       "      <td>Good</td>\n",
       "      <td>F</td>\n",
       "      <td>VS1</td>\n",
       "      <td>59.0</td>\n",
       "      <td>62.0</td>\n",
       "      <td>285.75</td>\n",
       "      <td>0.6</td>\n",
       "      <td>282.92</td>\n",
       "      <td>3</td>\n",
       "      <td>4</td>\n",
       "      <td>4</td>\n",
       "      <td>7</td>\n",
       "      <td>13</td>\n",
       "      <td>CL</td>\n",
       "    </tr>\n",
       "    <tr>\n",
       "      <th>477</th>\n",
       "      <td>479</td>\n",
       "      <td>1357</td>\n",
       "      <td>0.52</td>\n",
       "      <td>Good</td>\n",
       "      <td>F</td>\n",
       "      <td>SI1</td>\n",
       "      <td>63.6</td>\n",
       "      <td>62.0</td>\n",
       "      <td>124.73</td>\n",
       "      <td>2.2</td>\n",
       "      <td>239.87</td>\n",
       "      <td>3</td>\n",
       "      <td>6</td>\n",
       "      <td>4</td>\n",
       "      <td>4</td>\n",
       "      <td>13</td>\n",
       "      <td>CL</td>\n",
       "    </tr>\n",
       "  </tbody>\n",
       "</table>\n",
       "</div>"
      ],
      "text/plain": [
       "     Unnamed: 0  price  carat   cut color clarity  depth  table  volume  \\\n",
       "122         122   1350   0.52  Good     F     SI2   58.7   64.0  144.98   \n",
       "372         373   2059   0.70  Good     F     SI1   64.3   63.0  171.88   \n",
       "375         376   4508   0.90  Good     F     VS1   63.3   59.0  222.17   \n",
       "446         448   6794   1.01  Good     F     VS1   59.0   62.0  285.75   \n",
       "477         479   1357   0.52  Good     F     SI1   63.6   62.0  124.73   \n",
       "\n",
       "     L/W_ratio  V/W_Ratio  color_num  clarity_num  cut_num  carat_range  \\\n",
       "122        0.4     278.81          3            7        4            4   \n",
       "372        0.5     245.54          3            6        4            4   \n",
       "375        0.7     246.86          3            4        4            5   \n",
       "446        0.6     282.92          3            4        4            7   \n",
       "477        2.2     239.87          3            6        4            4   \n",
       "\n",
       "     table_range color_range  \n",
       "122           15          CL  \n",
       "372           14          CL  \n",
       "375           10          CL  \n",
       "446           13          CL  \n",
       "477           13          CL  "
      ]
     },
     "execution_count": 15,
     "metadata": {},
     "output_type": "execute_result"
    }
   ],
   "source": [
    "sub_test_2 = diamonds_df[(diamonds_df['cut'] == 'Good') & (diamonds_df['color'] == 'F')]\n",
    "\n",
    "sub_test_2.head()"
   ]
  },
  {
   "cell_type": "markdown",
   "metadata": {},
   "source": [
    "## 1 "
   ]
  },
  {
   "cell_type": "code",
   "execution_count": 50,
   "metadata": {},
   "outputs": [
    {
     "data": {
      "text/plain": [
       "-3.8224029682839293"
      ]
     },
     "metadata": {},
     "output_type": "display_data"
    },
    {
     "data": {
      "text/plain": [
       "True"
      ]
     },
     "metadata": {},
     "output_type": "display_data"
    },
    {
     "name": "stdout",
     "output_type": "stream",
     "text": [
      "0.0001323556608487217\n",
      "6.617783042436085e-05\n"
     ]
    }
   ],
   "source": [
    "test_results = ttest_1samp(diamonds_df['price'], 4000)\n",
    "display(test_results.statistic)\n",
    "display(test_results.pvalue < 0.05)\n",
    "\n",
    "print(test_results.pvalue) # scipy is p_value of both sides\n",
    "\n",
    "p_value_good = test_results.pvalue /2\n",
    "\n",
    "print(p_value_good)"
   ]
  },
  {
   "cell_type": "code",
   "execution_count": 51,
   "metadata": {},
   "outputs": [],
   "source": [
    "mu = 4000\n",
    "mu_hat = diamonds_df['price'].mean()\n",
    "n = diamonds_df.shape[0]\n",
    "std_hat = diamonds_df['price'].std()"
   ]
  },
  {
   "cell_type": "code",
   "execution_count": 52,
   "metadata": {},
   "outputs": [
    {
     "data": {
      "text/plain": [
       "-3.8224029682839293"
      ]
     },
     "execution_count": 52,
     "metadata": {},
     "output_type": "execute_result"
    }
   ],
   "source": [
    "t_test = (mu_hat - mu) / (std_hat / np.sqrt(n))\n",
    "t_test\n",
    "\n",
    "# t_test is the same as scipy"
   ]
  },
  {
   "cell_type": "code",
   "execution_count": 48,
   "metadata": {},
   "outputs": [
    {
     "name": "stdout",
     "output_type": "stream",
     "text": [
      "0.0001323556608487217\n"
     ]
    }
   ],
   "source": [
    "rv = t(df=n-1)\n",
    "p_value = rv.cdf(t_test)\n",
    "\n",
    "print(p_value * 2)"
   ]
  },
  {
   "cell_type": "markdown",
   "metadata": {},
   "source": [
    "## 2"
   ]
  },
  {
   "cell_type": "code",
   "execution_count": 26,
   "metadata": {},
   "outputs": [
    {
     "data": {
      "text/plain": [
       "-4.750641654253357"
      ]
     },
     "metadata": {},
     "output_type": "display_data"
    },
    {
     "data": {
      "text/plain": [
       "True"
      ]
     },
     "metadata": {},
     "output_type": "display_data"
    }
   ],
   "source": [
    "test_results = ttest_1samp(sub_test_1['price'], 4000)\n",
    "display(test_results.statistic)\n",
    "display(test_results.pvalue < 0.05)"
   ]
  },
  {
   "cell_type": "code",
   "execution_count": 27,
   "metadata": {},
   "outputs": [
    {
     "name": "stdout",
     "output_type": "stream",
     "text": [
      "-4.750641654253357\n",
      "2.4685583057365885e-06\n"
     ]
    }
   ],
   "source": [
    "print(test_results.statistic)\n",
    "print(test_results.pvalue)"
   ]
  },
  {
   "cell_type": "code",
   "execution_count": 28,
   "metadata": {},
   "outputs": [
    {
     "data": {
      "text/plain": [
       "-4.210391894626057"
      ]
     },
     "metadata": {},
     "output_type": "display_data"
    },
    {
     "data": {
      "text/plain": [
       "True"
      ]
     },
     "metadata": {},
     "output_type": "display_data"
    }
   ],
   "source": [
    "test_results = ttest_1samp(sub_test_2['price'], 4000)\n",
    "display(test_results.statistic)\n",
    "display(test_results.pvalue < 0.05)"
   ]
  },
  {
   "cell_type": "code",
   "execution_count": 29,
   "metadata": {},
   "outputs": [
    {
     "name": "stdout",
     "output_type": "stream",
     "text": [
      "-4.210391894626057\n",
      "2.9024656067624447e-05\n"
     ]
    }
   ],
   "source": [
    "print(test_results.statistic)\n",
    "print(test_results.pvalue)"
   ]
  },
  {
   "cell_type": "markdown",
   "metadata": {},
   "source": [
    "## 3"
   ]
  },
  {
   "cell_type": "markdown",
   "metadata": {},
   "source": [
    "More relevant values in other cut ranges.. See potacho \n",
    "\n",
    "Sub-Test 1: Fair cut + color G vs. Fair cut + color I\n",
    "\n",
    "Sub-Test 2: Good cut + color E vs. Good cut + color F\n",
    "\n",
    "Sub-Test 3: Ideal cut + color D vs. Ideal cut + color E\n",
    "\n",
    "Sub-Test 4: Premium cut + color D vs. Premium cut + color E\n",
    "\n",
    "Sub-Test 5: Very Good cut + color I vs. Very Good cut + color J\n",
    "\n",
    "Sub-Test 6: All cuts + color D vs. All cuts + color E"
   ]
  },
  {
   "cell_type": "code",
   "execution_count": null,
   "metadata": {},
   "outputs": [],
   "source": []
  }
 ],
 "metadata": {
  "kernelspec": {
   "display_name": "Python (jupyter_env)",
   "language": "python",
   "name": "jupyter_env"
  },
  "language_info": {
   "codemirror_mode": {
    "name": "ipython",
    "version": 3
   },
   "file_extension": ".py",
   "mimetype": "text/x-python",
   "name": "python",
   "nbconvert_exporter": "python",
   "pygments_lexer": "ipython3",
   "version": "3.7.7"
  }
 },
 "nbformat": 4,
 "nbformat_minor": 4
}
